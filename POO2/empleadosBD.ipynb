{
 "cells": [
  {
   "cell_type": "code",
   "execution_count": 1,
   "metadata": {},
   "outputs": [],
   "source": [
    "# Establcecer la conexion\n",
    "import mysql.connector\n",
    "\n",
    "conexion = mysql.connector.connect(\n",
    "    host = \"localhost\",\n",
    "    user = \"root\",\n",
    "    password = \"274138355\",\n",
    "    database = \"prueba\"\n",
    "\n",
    ")\n"
   ]
  },
  {
   "cell_type": "code",
   "execution_count": 2,
   "metadata": {},
   "outputs": [],
   "source": [
    "cursor = conexion.cursor()"
   ]
  },
  {
   "cell_type": "code",
   "execution_count": 3,
   "metadata": {},
   "outputs": [
    {
     "name": "stdout",
     "output_type": "stream",
     "text": [
      "Base de Datos creada exitosamente\n"
     ]
    }
   ],
   "source": [
    "cursor.execute(\"CREATE DATABASE IF NOT EXISTS empleados \")\n",
    "cursor.execute(\"USE empleados\")\n",
    "print(\"Base de Datos creada exitosamente\")"
   ]
  },
  {
   "cell_type": "code",
   "execution_count": 5,
   "metadata": {},
   "outputs": [],
   "source": [
    "cursor.execute(\"\"\"\n",
    "    CREATE TABLE IF NOT EXISTS tabla_empleados (\n",
    "        id INT AUTO_INCREMENT PRIMARY KEY,\n",
    "        nombre VARCHAR(100),\n",
    "        apellido VARCHAR(100),\n",
    "        edad INT,\n",
    "        salario DECIMAL(10,2),\n",
    "        puesto VARCHAR(100)\n",
    "        \n",
    "               \n",
    "    )\n",
    "\"\"\")"
   ]
  },
  {
   "cell_type": "code",
   "execution_count": 6,
   "metadata": {},
   "outputs": [],
   "source": [
    "nombre = input(\"Ingrese su nombre: \")\n",
    "apellido = input(\"Su apellido\")\n",
    "edad = int(input(\"edad\"))\n",
    "salario = float(input(\"ingrese el salario\"))\n",
    "puesto = input(\"puesto\")\n",
    "query =\"INSERT INTO tabla_empleados (nombre, apellido,edad,salario,puesto) VALUES (%s,%s,%s,%s,%s)\"\n",
    "valores = (nombre,apellido,edad,salario,puesto)"
   ]
  },
  {
   "cell_type": "code",
   "execution_count": 7,
   "metadata": {},
   "outputs": [],
   "source": [
    "cursor.execute(query,valores)\n",
    "conexion.commit()"
   ]
  },
  {
   "cell_type": "code",
   "execution_count": 10,
   "metadata": {},
   "outputs": [
    {
     "name": "stdout",
     "output_type": "stream",
     "text": [
      "(1, 'Axel', 'Marquez', 20, Decimal('100.00'), 'Gerente')\n"
     ]
    }
   ],
   "source": [
    "cursor.execute(\"SELECT * FROM tabla_empleados\")\n",
    "for row in cursor.fetchall():\n",
    "    print(row)"
   ]
  },
  {
   "cell_type": "code",
   "execution_count": null,
   "metadata": {},
   "outputs": [],
   "source": [
    "N_id=int(input(\"id empleado\"))\n",
    "N_Puesto=(input(\"Nuevo Puesto\"))\n",
    "query = \"UPDATE tabla_empleados SET puesto = %s WHERE id = %s\"\n",
    "valores = (N_Puesto, N_id)\n",
    "cursor.execute(query, valores)\n",
    "conexion.commit()\n"
   ]
  }
 ],
 "metadata": {
  "kernelspec": {
   "display_name": "Python 3",
   "language": "python",
   "name": "python3"
  },
  "language_info": {
   "codemirror_mode": {
    "name": "ipython",
    "version": 3
   },
   "file_extension": ".py",
   "mimetype": "text/x-python",
   "name": "python",
   "nbconvert_exporter": "python",
   "pygments_lexer": "ipython3",
   "version": "3.12.0"
  }
 },
 "nbformat": 4,
 "nbformat_minor": 2
}
